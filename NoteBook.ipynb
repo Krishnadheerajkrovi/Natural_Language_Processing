{
 "cells": [
  {
   "cell_type": "markdown",
   "id": "32f75bb4",
   "metadata": {},
   "source": [
    "### Installing the NLP toolkit"
   ]
  },
  {
   "cell_type": "code",
   "execution_count": null,
   "id": "3c2fc551",
   "metadata": {},
   "outputs": [],
   "source": [
    "!pip install nltk"
   ]
  },
  {
   "cell_type": "markdown",
   "id": "44b6612e",
   "metadata": {},
   "source": [
    "### Importing NLTK"
   ]
  },
  {
   "cell_type": "code",
   "execution_count": 19,
   "id": "8fb66fe8",
   "metadata": {},
   "outputs": [
    {
     "name": "stderr",
     "output_type": "stream",
     "text": [
      "[nltk_data] Downloading package punkt to\n",
      "[nltk_data]     /home/krishnadheerajkrovi/nltk_data...\n",
      "[nltk_data]   Package punkt is already up-to-date!\n",
      "[nltk_data] Downloading package stopwords to\n",
      "[nltk_data]     /home/krishnadheerajkrovi/nltk_data...\n",
      "[nltk_data]   Unzipping corpora/stopwords.zip.\n"
     ]
    },
    {
     "data": {
      "text/plain": [
       "True"
      ]
     },
     "execution_count": 19,
     "metadata": {},
     "output_type": "execute_result"
    }
   ],
   "source": [
    "import nltk\n",
    "nltk.download('punkt')\n",
    "nltk.download('stopwords')"
   ]
  },
  {
   "cell_type": "markdown",
   "id": "1563c592",
   "metadata": {},
   "source": [
    "## 1) Tokenization\n",
    "\n",
    "## Tokenization is the process of dividing the whole text into tokens.\n",
    "\n",
    "#### It is mainly of two types:\n",
    "\n",
    "    Word Tokenizer (separated by words)\n",
    "    Sentence Tokenizer (separated by sentence)"
   ]
  },
  {
   "cell_type": "code",
   "execution_count": 11,
   "id": "d39ca3f2",
   "metadata": {},
   "outputs": [
    {
     "name": "stdout",
     "output_type": "stream",
     "text": [
      "['Hello there.', 'Welcome to my world.', \"Isn't it beautiful?\"]\n",
      "['Hello', 'there', '.', 'Welcome', 'to', 'my', 'world', '.', 'Is', \"n't\", 'it', 'beautiful', '?']\n"
     ]
    }
   ],
   "source": [
    "import nltk\n",
    "from nltk.tokenize import sent_tokenize,word_tokenize\n",
    "sample_text = \"Hello there. Welcome to my world. Isn't it beautiful?\"\n",
    "print(sent_tokenize(sample_text))\n",
    "print(word_tokenize(sample_text))\n"
   ]
  },
  {
   "cell_type": "markdown",
   "id": "85d1966c",
   "metadata": {},
   "source": [
    "## Stopwords\n",
    "Doesn't add much meaning to a sentence. <br>\n",
    "NLP terms - not imp in analyzing data <br>\n",
    "In English, \n",
    "### 179 \n",
    "stopwords are there. ( import from nltk.corpus)"
   ]
  },
  {
   "cell_type": "code",
   "execution_count": 17,
   "id": "888144e3",
   "metadata": {},
   "outputs": [],
   "source": [
    "import nltk.corpus"
   ]
  },
  {
   "cell_type": "code",
   "execution_count": 21,
   "id": "cf3f00de",
   "metadata": {},
   "outputs": [
    {
     "name": "stdout",
     "output_type": "stream",
     "text": [
      "179 ['i', 'me', 'my', 'myself', 'we', 'our', 'ours', 'ourselves', 'you', \"you're\", \"you've\", \"you'll\", \"you'd\", 'your', 'yours', 'yourself', 'yourselves', 'he', 'him', 'his', 'himself', 'she', \"she's\", 'her', 'hers', 'herself', 'it', \"it's\", 'its', 'itself', 'they', 'them', 'their', 'theirs', 'themselves', 'what', 'which', 'who', 'whom', 'this', 'that', \"that'll\", 'these', 'those', 'am', 'is', 'are', 'was', 'were', 'be', 'been', 'being', 'have', 'has', 'had', 'having', 'do', 'does', 'did', 'doing', 'a', 'an', 'the', 'and', 'but', 'if', 'or', 'because', 'as', 'until', 'while', 'of', 'at', 'by', 'for', 'with', 'about', 'against', 'between', 'into', 'through', 'during', 'before', 'after', 'above', 'below', 'to', 'from', 'up', 'down', 'in', 'out', 'on', 'off', 'over', 'under', 'again', 'further', 'then', 'once', 'here', 'there', 'when', 'where', 'why', 'how', 'all', 'any', 'both', 'each', 'few', 'more', 'most', 'other', 'some', 'such', 'no', 'nor', 'not', 'only', 'own', 'same', 'so', 'than', 'too', 'very', 's', 't', 'can', 'will', 'just', 'don', \"don't\", 'should', \"should've\", 'now', 'd', 'll', 'm', 'o', 're', 've', 'y', 'ain', 'aren', \"aren't\", 'couldn', \"couldn't\", 'didn', \"didn't\", 'doesn', \"doesn't\", 'hadn', \"hadn't\", 'hasn', \"hasn't\", 'haven', \"haven't\", 'isn', \"isn't\", 'ma', 'mightn', \"mightn't\", 'mustn', \"mustn't\", 'needn', \"needn't\", 'shan', \"shan't\", 'shouldn', \"shouldn't\", 'wasn', \"wasn't\", 'weren', \"weren't\", 'won', \"won't\", 'wouldn', \"wouldn't\"]\n"
     ]
    }
   ],
   "source": [
    "from nltk.corpus import stopwords\n",
    "print(len(stopwords.words('english')),stopwords.words('english'))"
   ]
  },
  {
   "cell_type": "code",
   "execution_count": null,
   "id": "06560707",
   "metadata": {},
   "outputs": [],
   "source": []
  }
 ],
 "metadata": {
  "kernelspec": {
   "display_name": "Python 3 (ipykernel)",
   "language": "python",
   "name": "python3"
  },
  "language_info": {
   "codemirror_mode": {
    "name": "ipython",
    "version": 3
   },
   "file_extension": ".py",
   "mimetype": "text/x-python",
   "name": "python",
   "nbconvert_exporter": "python",
   "pygments_lexer": "ipython3",
   "version": "3.9.7"
  }
 },
 "nbformat": 4,
 "nbformat_minor": 5
}
